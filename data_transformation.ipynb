{
 "cells": [
  {
   "cell_type": "code",
   "execution_count": 8,
   "metadata": {},
   "outputs": [
    {
     "name": "stdout",
     "output_type": "stream",
     "text": [
      "Processing question 1/3: Quelle est la meilleure stratégie pour le marketing numérique ?\n",
      "response json : {'answer': \"<span style='color:blue'>La meilleure stratégie pour le marketing numérique</span> implique plusieurs éléments clés. Tout d’abord, <span style='color:red'>l’analyse de données</span> est essentielle pour comprendre le comportement des consommateurs et prendre des décisions éclairées. Ensuite, <span style='color:green'>l’utilisation de réseaux sociaux</span> pour augmenter la visibilité et engager la cible est cruciale. Le <span style='color:purple'>développement de contenu personnalisé</span> qui répond aux besoins et aux préférences de la cible est également vital. De plus, <span style='color:orange'>l’optimisation pour les moteurs de recherche</span> contribue à améliorer la visibilité en ligne. Finalement, <span style='color:pink'>l’exploitation de l’intelligence artificielle et du marketing automation</span> peut aider à rationaliser les processus et à accroître l’efficacité du marketing.\", 'references': [{'accident_id': '-1', 'event_type': 'NA', 'industry_type': 'Marketing', 'accident_title': 'Marketing Strategy', 'url': 'https://example.com/marketing', 'color': 'blue'}]}\n",
      "Processing question 2/3: Comment optimiser une campagne de publicité sur les réseaux sociaux ?\n",
      "response json : {'answer': \"<span style='color:red'>L'analyse de données</span> est essentielle pour comprendre le comportement des consommateurs et optimiser une campagne de publicité sur les réseaux sociaux. En effet, <span style='color:green'>l'utilisation de réseaux sociaux</span> pour augmenter la visibilité peut être améliorée en exploitant les données pour créer du <span style='color:purple'>contenu personnalisé</span> qui répond aux besoins et préférences de la cible. De plus, <span style='color:orange'>l'optimisation pour les moteurs de recherche</span> peut contribuer à améliorer la visibilité en ligne. Pour optimiser votre campagne, commencez par <span style='color:pink'>analyser les données des réseaux sociaux</span> pour identifier les tendances et les préférences de votre public, puis utilisez ces informations pour développer des contenus pertinents et attractifs.\", 'references': [{'accident_id': '-1', 'event_type': 'NA', 'industry_type': 'Marketing', 'accident_title': 'Marketing Strategy', 'url': 'https://example.com/marketing', 'color': 'blue'}]}\n",
      "Processing question 3/3: Quels outils utiliser pour le SEO ?\n",
      "response json : {'answer': '<span style=\"color:red\">L\\'analyse de mots-clés</span> est un outil essentiel pour l\\'optimisation des moteurs de recherche (SEO) car elle permet d\\'identifier les termes les plus pertinents pour votre contenu. <span style=\"color:green\">Les outils de suivi de positionnement</span> tels que Ahrefs ou SEMrush peuvent aider à analyser votre visibilité actuelle et à identifier les opportunités d\\'amélioration. De plus, <span style=\"color:purple\">l\\'optimisation de la vitesse de chargement</span> de votre site web est cruciale pour améliorer l\\'expérience utilisateur et ainsi augmenter votre ranking. <span style=\"color:orange\">La création de contenu de qualité</span> et riche en informations est également primordiale pour attirer et retenir les visiteurs, et finalement, <span style=\"color:pink\">l\\'exploitation des réseaux sociaux</span> peut contribuer à promouvoir votre contenu et à accroître votre visibilité en ligne.', \n",
      "'references': [{'accident_id': '-1', 'event_type': 'NA', 'industry_type': 'Marketing', 'accident_title': 'SEO Strategy', 'url': 'https://example.com/seo', 'color': 'blue'}]}\n",
      "Dataset saved to fine_tuning_data.json\n"
     ]
    }
   ],
   "source": [
    "import json\n",
    "import requests\n",
    "import time\n",
    "\n",
    "API_URL = \"http://localhost:8000/invoke\"\n",
    "USER_ID = \"test_user\"\n",
    "CHAT_ID = \"test_chat\"\n",
    "\n",
    "INPUT_FILE = \"data/questions.json\"\n",
    "OUTPUT_FILE = \"fine_tuning_data.json\"\n",
    "\n",
    "with open(INPUT_FILE, \"r\") as f:\n",
    "    data = json.load(f)\n",
    "    questions = data.get(\"questions\", [])\n",
    "\n",
    "output_data = {\"data\": []}\n",
    "\n",
    "for i, question in enumerate(questions):\n",
    "    print(f\"Processing question {i+1}/{len(questions)}: {question}\")\n",
    "    \n",
    "    payload = {\n",
    "        \"user_id\": USER_ID,\n",
    "        \"chat_id\": CHAT_ID,\n",
    "        \"question\": question,\n",
    "        \"industries\": [\"all\"]\n",
    "    }\n",
    "    \n",
    "    try:\n",
    "        response = requests.post(API_URL, json=payload)\n",
    "        response.raise_for_status()\n",
    "        \n",
    "        # Extraire la réponse en JSON\n",
    "        response_json = response.json()\n",
    "        \n",
    "        print(f'response json : {response_json}')\n",
    "        \n",
    "        # Assurez-vous que la clé contenant la réponse est correcte\n",
    "        # Changez 'response' ci-dessous si votre API renvoie la réponse dans une autre clé\n",
    "        model_response = response_json\n",
    "        \n",
    "        # Structurer les données\n",
    "        pair = {\n",
    "            \"question\": question,\n",
    "            \"response\": model_response\n",
    "        }\n",
    "        output_data[\"data\"].append(pair)\n",
    "        \n",
    "    except Exception as e:\n",
    "        print(f\"Error processing question {i+1}: {e}\")\n",
    "        continue\n",
    "    \n",
    "    time.sleep(1)\n",
    "\n",
    "with open(OUTPUT_FILE, \"w\") as f:\n",
    "    json.dump(output_data, f, indent=4)\n",
    "\n",
    "print(f\"Dataset saved to {OUTPUT_FILE}\")\n"
   ]
  },
  {
   "cell_type": "code",
   "execution_count": 5,
   "metadata": {},
   "outputs": [
    {
     "name": "stdout",
     "output_type": "stream",
     "text": [
      "Les fichiers train.json et validation.json ont été générés.\n"
     ]
    }
   ],
   "source": [
    "import pandas as pd\n",
    "import json\n",
    "from sklearn.model_selection import train_test_split\n",
    "\n",
    "df = pd.read_csv(\"data/cleaned.csv\") \n",
    "examples = []\n",
    "\n",
    "if \"Unnamed: 0\" in df.columns:\n",
    "    df = df.drop(columns=[\"Unnamed: 0\"])\n",
    "\n",
    "records = df.to_dict(orient=\"records\")\n",
    "\n",
    "train_data, validation_data = train_test_split(records, test_size=0.2, random_state=42)\n",
    "\n",
    "with open(\"data/train.json\", \"w\") as train_file:\n",
    "    json.dump(train_data, train_file, indent=4)\n",
    "\n",
    "with open(\"data/validation.json\", \"w\") as validation_file:\n",
    "    json.dump(validation_data, validation_file, indent=4)\n",
    "\n",
    "print(\"Les fichiers train.json et validation.json ont été générés.\")\n"
   ]
  },
  {
   "cell_type": "markdown",
   "metadata": {},
   "source": []
  }
 ],
 "metadata": {
  "kernelspec": {
   "display_name": "base",
   "language": "python",
   "name": "python3"
  },
  "language_info": {
   "codemirror_mode": {
    "name": "ipython",
    "version": 3
   },
   "file_extension": ".py",
   "mimetype": "text/x-python",
   "name": "python",
   "nbconvert_exporter": "python",
   "pygments_lexer": "ipython3",
   "version": "3.12.4"
  }
 },
 "nbformat": 4,
 "nbformat_minor": 2
}
