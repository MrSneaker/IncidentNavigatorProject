{
 "cells": [
  {
   "cell_type": "code",
   "execution_count": 5,
   "metadata": {},
   "outputs": [
    {
     "name": "stdout",
     "output_type": "stream",
     "text": [
      "Les fichiers train.json et validation.json ont été générés.\n"
     ]
    }
   ],
   "source": [
    "import pandas as pd\n",
    "import json\n",
    "from sklearn.model_selection import train_test_split\n",
    "\n",
    "df = pd.read_csv(\"data/cleaned.csv\") \n",
    "examples = []\n",
    "\n",
    "if \"Unnamed: 0\" in df.columns:\n",
    "    df = df.drop(columns=[\"Unnamed: 0\"])\n",
    "\n",
    "records = df.to_dict(orient=\"records\")\n",
    "\n",
    "train_data, validation_data = train_test_split(records, test_size=0.2, random_state=42)\n",
    "\n",
    "with open(\"data/train.json\", \"w\") as train_file:\n",
    "    json.dump(train_data, train_file, indent=4)\n",
    "\n",
    "with open(\"data/validation.json\", \"w\") as validation_file:\n",
    "    json.dump(validation_data, validation_file, indent=4)\n",
    "\n",
    "print(\"Les fichiers train.json et validation.json ont été générés.\")\n"
   ]
  },
  {
   "cell_type": "markdown",
   "metadata": {},
   "source": []
  }
 ],
 "metadata": {
  "kernelspec": {
   "display_name": "base",
   "language": "python",
   "name": "python3"
  },
  "language_info": {
   "codemirror_mode": {
    "name": "ipython",
    "version": 3
   },
   "file_extension": ".py",
   "mimetype": "text/x-python",
   "name": "python",
   "nbconvert_exporter": "python",
   "pygments_lexer": "ipython3",
   "version": "3.12.4"
  }
 },
 "nbformat": 4,
 "nbformat_minor": 2
}
